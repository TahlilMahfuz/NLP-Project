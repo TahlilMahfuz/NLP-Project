{
 "cells": [
  {
   "cell_type": "code",
   "execution_count": 1,
   "id": "fde16a08",
   "metadata": {},
   "outputs": [
    {
     "name": "stderr",
     "output_type": "stream",
     "text": [
      "/home/tahlilmahfuz/NLP Project/venv/lib/python3.12/site-packages/tqdm/auto.py:21: TqdmWarning: IProgress not found. Please update jupyter and ipywidgets. See https://ipywidgets.readthedocs.io/en/stable/user_install.html\n",
      "  from .autonotebook import tqdm as notebook_tqdm\n"
     ]
    }
   ],
   "source": [
    "import pandas as pd\n",
    "from sentence_transformers import SentenceTransformer\n",
    "import faiss\n",
    "import numpy as np\n",
    "from ollama import chat\n",
    "from ollama import ChatResponse\n",
    "import pandas as pd\n",
    "from tqdm import tqdm\n",
    "from rouge_score import rouge_scorer\n",
    "import sacrebleu\n",
    "from bert_score import score as bert_score\n",
    "from medcon import medcon\n",
    "from tqdm import tqdm"
   ]
  },
  {
   "cell_type": "markdown",
   "id": "f38c0c3e",
   "metadata": {},
   "source": [
    "# Prompt Templates"
   ]
  },
  {
   "cell_type": "markdown",
   "id": "36ab13d6",
   "metadata": {},
   "source": [
    "### Zero Shot Prompting"
   ]
  },
  {
   "cell_type": "code",
   "execution_count": 2,
   "id": "47d73a2c",
   "metadata": {},
   "outputs": [],
   "source": [
    "# ---------------- Zero-Shot Prompt Templates ----------------\n",
    "finding_zero_shot = \"\"\"\n",
    "Expertise: You are an expert medical professional.\n",
    "\n",
    "Instruction:\n",
    "Summarize the radiology report findings into an impression with minimal text.\n",
    "\"\"\"\n",
    "\n",
    "summerization_zero_shot = \"\"\"\n",
    "Expertise: You are a helpful medical assistant.\n",
    "\n",
    "Instruction:\n",
    "Summarize the patient health query into one question of 15 words or less.\n",
    "\"\"\"\n",
    "\n",
    "note_zero_shot = \"\"\"\n",
    "Expertise: You are an expert clinician.\n",
    "\n",
    "Instruction:\n",
    "Based on the progress note, generate a list of 3–7 problems (a few words each) \n",
    "ranked in order of importance.\n",
    "\"\"\"\n",
    "\n",
    "dialogue_zero_shot = \"\"\"\n",
    "Expertise: You are an expert physician.\n",
    "\n",
    "Instruction:\n",
    "Summarize the patient/doctor dialogue into an assessment and plan.\n",
    "\"\"\"\n",
    "\n",
    "# example = radiology_zero_shot.format(radiology_findings_text=\"CT scan shows left lung mass with mediastinal shift.\")\n",
    "# print(example)\n"
   ]
  },
  {
   "cell_type": "markdown",
   "id": "51c3a41d",
   "metadata": {},
   "source": [
    "### Few Shot Prompting"
   ]
  },
  {
   "cell_type": "code",
   "execution_count": 3,
   "id": "1bf66007",
   "metadata": {},
   "outputs": [
    {
     "data": {
      "application/vnd.microsoft.datawrangler.viewer.v0+json": {
       "columns": [
        {
         "name": "index",
         "rawType": "int64",
         "type": "integer"
        },
        {
         "name": "Unnamed: 0",
         "rawType": "int64",
         "type": "integer"
        },
        {
         "name": "dialogue",
         "rawType": "object",
         "type": "string"
        },
        {
         "name": "assessment",
         "rawType": "object",
         "type": "string"
        }
       ],
       "ref": "feecf48e-533f-4b07-812a-b611de50ae0e",
       "rows": [
        [
         "0",
         "0",
         "hi , martha . how are you ?  i'm doing okay . how are you ?  i'm doing okay . so , i know the nurse told you about dax . i'd like to tell dax a little bit about you , okay ?  okay .  martha is a 50-year-old female with a past medical history significant for congestive heart failure , depression and hypertension who presents for her annual exam . so , martha , it's been a year since i've seen you . how are you doing ?  i'm doing well . i've been traveling a lot recently since things have , have gotten a bit lighter . and i got my , my vaccine , so i feel safer about traveling . i've been doing a lot of hiking . uh , went to washington last weekend to hike in northern cascades, like around the mount baker area .  nice . that's great . i'm glad to hear that you're staying active , you know . i , i just love this weather . i'm so happy the summer is over . i'm definitely more of a fall person .  yes , fall foliage is the best .  yeah . um , so tell me , how are you doing with the congestive heart failure ? how are you doing watching your diet ? i know we've talked about watching a low sodium diet . are you doing okay with that ?  i've been doing well with that . i resisted , as much , as i could , from the tater tots , you know , the soft pretzels , the salty foods that i , i love to eat . and i've been doing a really good job .  okay , all right . well , i'm glad to hear that . and you're taking your medication ?  yes .  okay , good . and any symptoms like chest pains , shortness of breath , any swelling in your legs ?  no , not that i've noticed .  okay , all right . and then in terms of your depression , i know that we tried to stay off of medication in the past because you're on medications for your other problems . how are you doing ? and i know that you enrolled into therapy . is that helping ? or-  yeah , it's been helping a lot . i've been going every week , um , for the past year since my last annual exam . and that's been really helpful for me .  okay . so , no , no issues , no feelings of wanting to harm yourself or hurt others ?  no , nothing like that .  okay , all right . and then in terms of your high blood pressure , i know that you and i have kind of battled in the past with you remembering to take some of your blood pressure medications . how are you doing with that ?  i'm still forgetting to take my blood pressure medication . and i've noticed when work gets more stressful , my blood pressure goes up .  okay . and , and so how has work going for you ?  it's been okay . it's been a lot of long hours , late nights . a lot of , um , you know , fiscal year end data that i've been having to pull . so , a lot of responsibility , which is good . but with the responsibility comes the stress .  yeah , okay , all right . i understand . um , all right . well , i know that you did a review of system sheet when you checked in with the nurse . i know that you were endorsing some nasal congestion from some of the fall pollen and allergies . any other symptoms , nausea or vomiting , abdominal pain , anything like that ?  no , nothing like that .  no , okay , all right . well , i'm gon na go ahead and do a quick physical exam , okay ?  okay .  hey , dragon , show me the blood pressure . so , yeah , looking at your blood pressure today here in the office , it is a little elevated . you know , it could just , you could just be nervous . uh , let's look at some of the past readings . hey , dragon , show me the blood pressure readings . hey , dragon , show me the blood pressure readings . here we go . uh , so they are running on the higher side . um , y- you know , i , i do think that , you know , i'd like to see you take your medication a little bit more , so that we can get that under control a little bit better , okay ?  okay .  so , i'm just gon na check out your heart and your lungs . and you know , let you know what i find , okay ?  okay .  okay . so , on your physical examination , you know , everything looks good . on your heart exam , i do appreciate a three out of six systolic ejection murmur , which i've heard in the past , okay ? and on your lower extremities , i do appreciate one plus pitting edema , so you do have a little bit of fluid in your legs , okay ?  okay .  let's go ahead , i wan na look at some of your results , okay ? hey , dragon , show me the echocardiogram . so , this is the result of the echocardiogram that we did last year . it showed that you have that low-ish pumping function of your heart at about 45 % . and it also sh- shows some mitral regurgitation , that's that heart murmur that i heard , okay ?  um , hey , dragon , show me the lipid panel . so , looking at your lipid panel from last year , you know , everything , your cholesterol was like , a tiny bit high . but it was n't too , too bad , so i know you're trying to watch your diet . so , we'll repeat another one this year , okay ?  okay .  um , so i wan na just go over a little bit about my assessment and my plan for you , okay ? so , for your first problem your congestive heart failure , um , i wan na continue you on your current medications . but i do wan na increase your lisinopril to 40 milligrams a day , just because your blood pressure's high . and you know , you are retaining a little bit of fluid . i also wan na start you on some lasix , you know , 20 milligrams a day . and have you continue to watch your , your diet , okay ?  okay .  i also wan na repeat another echocardiogram , okay ?  all right .  hey , dragon , order an echocardiogram . from a depression standpoint , it sounds like you're doing really well with that . so , i'm , i'm really happy for you . i'm , i'm glad to see that you're in therapy and you're doing really well . i do n't feel the need to start you on any medications this year , unless you feel differently .  no , i feel the same way .  okay , all right . and then for your last problem your hypertension , you know , again i , i , i think it's out of control . but we'll see , i think , you know , i'd like to see you take the lisinopril as directed , okay ? uh , i want you to record your blood pressures within the patient , you know , take your blood pressure every day . record them to me for like , about a week , so i have to see if we have to add another agent , okay ? 'cause we need to get that under better control for your heart failure to be more successful , okay ?  okay .  do you have any questions ? , and i forgot . for your annual exam , you're due for a mammogram , so we have to schedule for that , as well , okay ?  okay .  okay . do you have any questions ?  can i take all my pills at the same time ?  yeah .  'cause i've been trying to take them at different times of the day , 'cause i did n't know if it was bad to take them all at once or i should separate them . i do n't know .  yeah . you can certainly take them , you know , all at the same time , as long , as yeah , they're all one scale . you can take them all at the same time . just set an alarm-  okay .  . some time during the day to take them , okay ?  that might help me remember better .  all right . that sounds good . all right , well , it's good to see you .  good seeing you too .  hey , dragon , finalize the note .",
         "CHIEF COMPLAINT Annual exam. HISTORY OF PRESENT ILLNESS Martha Collins is a 50-year-old female with a past medical history significant for congestive heart failure, depression, and hypertension who presents for her annual exam. It has been a year since I last saw the patient. The patient has been traveling a lot recently since things have gotten a bit better. She reports that she got her COVID-19 vaccine so she feels safer about traveling. She has been doing a lot of hiking. She reports that she is staying active. She has continued watching her diet and she is doing well with that. The patient states that she is avoiding salty foods that she likes to eat. She has continued utilizing her medications. The patient denies any chest pain, shortness of breath, or swelling in her legs. Regarding her depression, she reports that she has been going to therapy every week for the past year. This has been really helpful for her. She denies suicidal or homicidal ideation. The patient reports that she is still forgetting to take her blood pressure medication. She has noticed that when work gets more stressful, her blood pressure goes up. She reports that work has been going okay, but it has been a lot of long hours lately. She endorses some nasal congestion from some of the fall allergies. She denies any other symptoms of nausea, vomiting, abdominal pain. REVIEW OF SYSTEMS • Ears, Nose, Mouth and Throat: Endorses nasal congestion from allergies. • Cardiovascular: Denies chest pain or dyspnea on exertion. • Respiratory: Denies shortness of breath. • Gastrointestinal: Denies abdominal pain, nausea, or vomiting. • Psychiatric: Endorses depression. Denies suicidal or homicidal ideations. PHYSICAL EXAMINATION • Cardiovascular: Grade 3/6 systolic ejection murmur. 1+ pitting edema of the bilateral lower extremities. VITALS REVIEWED • Blood Pressure: Elevated. RESULTS Echocardiogram demonstrates decreased ejection fraction of 45%. Mitral regurgitation is present. Lipid panel: Elevated cholesterol. ASSESSMENT AND PLAN Martha Collins is a 50-year-old female with a past medical history significant for congestive heart failure, depression, and hypertension who presents for her annual exam. Congestive heart failure. • Medical Reasoning: She has been compliant with her medication and dietary modifications. Her previous year's echocardiogram demonstrated a reduced ejection fraction of 45%, as well as some mitral regurgitation. Her cholesterol levels were slightly elevated on her lipid panel from last year. • Additional Testing: We will order a repeat echocardiogram. We will also repeat a lipid panel this year. • Medical Treatment: She will continue with her current medications. We will increase her lisinopril to 40 mg daily and initiate Lasix 20 mg daily. • Patient Education and Counseling: I encouraged her to continue with dietary modifications. Depression. • Medical Reasoning: She is doing well with weekly therapy. Hypertension. • Medical Reasoning: She has been compliant with dietary modifications but has been inconsistent with the use of her medication. She attributes elevations in her blood pressure to increased stress. • Medical Treatment: We will increase her lisinopril to 40 mg daily as noted above. • Patient Education and Counseling: I encouraged the patient to take her lisinopril as directed. I advised her to monitor her blood pressures at home for the next week and report them to me. Healthcare maintenance. • Medical Reasoning: The patient is due for her routine mammogram. • Additional Testing: We will order a mammogram and have this scheduled for her. Patient Agreements: The patient understands and agrees with the recommended medical treatment plan."
        ],
        [
         "1",
         "1",
         "hi , andrew , how are you ?  hi . good to see you .  it's good to see you as well . so i know that the nurse told you about dax . i'd like to tell dax a little bit about you .  sure .  okay ? so , andrew is a 62-year-old male with a past medical history significant for a kidney transplant , hypothyroidism , and arthritis , who presents today with complaints of joint pain . andrew , what's going on with your joint ? what happened ?  uh , so , over the the weekend , we've been moving boxes up and down our basements stairs , and by the end of the day my knees were just killing me .  okay . is , is one knee worse than the other ?  equally painful .  okay .  both of them .  and did you , did you injure one of them ?  um , uh , i've had some knee problems in the past but i think it was just the repetition and the weight of the boxes .  okay . all right . and , and what have you taken for the pain ?  a little tylenol . i iced them for a bit . nothing really seemed to help , though .  okay . all right . um , and does it prevent you from doing , like , your activities of daily living , like walking and exercising and things like that ?  uh , saturday night it actually kept me up for a bit . they were pretty sore .  mm-hmm . okay . and any other symptoms like fever or chills ?  no .  joint pain ... i mean , like muscle aches ?  no .  nausea , vomiting , diarrhea ?  no .  anything like that ?  no .  okay . all right . now , i know that you've had the kidney transplant a few years ago for some polycystic kidneys .  mm-hmm .  um , how are you doing with that ? i know that you told dr. gutierrez-  mm .  . a couple of weeks ago .  yes .  everything's okay ?  so far , so good .  all right . and you're taking your immunosuppressive medications ?  yes , i am .  okay . all right . um , and did they have anything to say ? i have n't gotten any reports from them , so ...  no , n- nothing out of the ordinary , from what they reported .  okay . all right . um , and in terms of your hyperthyroidism , how are you doing with the synthroid ? are you doing okay ?  uh , yes , i am .  you're taking it regularly ?  on the clock , yes .  yes . okay . and any fatigue ? weight gain ? anything like that that you've noticed ?  no , nothing out of the ordinary .  okay . and just in general , you know , i know that we've kind of battled with your arthritis .  mm-hmm .  you know , it's hard because you ca n't take certain medications 'cause of your kidney transplant .  sure .  so other than your knees , any other joint pain or anything like that ?  every once in a while , my elbow , but nothing , nothing out of the ordinary .  okay . all right . now i know the nurse did a review of systems sheet when you checked in . any other symptoms i might have missed ?  no .  no headaches ?  no headaches .  anything like that w- ... okay . all right . well , i wan na go ahead and do a quick physical exam , all right ? hey , dragon , show me the vital signs . so here in the office , your vital signs look good . you do n't have a fever , which is good .  mm-hmm .  your heart rate and your , uh , blood pressure look fine . i'm just gon na check some things out , and i'll let you know what i find , okay ?  perfect .  all right . does that hurt ?  a little bit . that's tender .  okay , so on physical examination , on your heart exam , i do appreciate a little two out of six systolic ejection murmur-  mm-hmm .  . which we've heard in the past . okay , so that seems stable . on your knee exam , there is some edema and some erythema of your right knee , but your left knee looks fine , okay ? um , you do have some pain to palpation of the right knee and some decreased range of motion , um , on exam , okay ? so what does that mean ? so we'll go ahead and we'll see if we can take a look at some of these things . i know that they did an x-ray before you came in , okay ?  mm-hmm .  so let's take a look at that .  sure .  hey , dragon , show me the right knee x-ray . so here's the r- here's your right knee x-ray . this basically shows that there's good bony alignment . there's no acute fracture , which is not surprising , based on the history .  mm-hmm .  okay ? hey , dragon , show me the labs . and here , looking at your lab results , you know , your white blood cell count is not elevated , which is good . you know , we get concerned about that in somebody who's immunocompromised .  mm-hmm .  and it looks like your kidney function is also very good . so i'm , i'm very happy about that .  yeah .  okay ? so i just wan na go over a little bit about my assessment and my plan for you .  mm-hmm .  so for your knee pain , i think that this is an acute exacerbation of your arthritis , okay ? so i wan na go ahead and if ... and prescribe some ultram 50 milligrams every six hours as needed .  okay .  okay ? i also wan na go ahead and just order an autoimmune panel , okay ? hey , dragon , order an autoimmune panel . and you know , i , i want , i want you to just take it easy for right now , and if your symptoms continue , we'll talk about further imaging and possibly referral to physical therapy , okay ?  you got it .  for your second problem , your hypothyroidism , i wan na go ahead and continue you on this ... on the synthroid , and i wan na go ahead and order some thyroid labs , okay ?  sure .  hey , dragon , order a thyroid panel . and then for your last problem , the arthritis , you know , we just kinda talked about that . you know , it's gon na be a struggle for you because again , you ca n't take some of those anti-inflammatory medications because of your kidney transplant , so ...  mm-hmm .  you know , let's see how we do over the next couple weeks , and again , we'll refer you to physical therapy if we need to , okay ?  you got it .  you have any questions ?  not at this point .  okay . hey , dragon , finalize the note .",
         "CHIEF COMPLAINT Joint pain. HISTORY OF PRESENT ILLNESS Andrew Perez is a 62-year-old male with a past medical history significant for a kidney transplant, hypothyroidism, and arthritis. He presents today with complaints of joint pain. The patient reports that over the weekend, he was moving boxes up and down the basement stairs. By the end of the day, his knees were very painful. The pain is equal in the bilateral knees. He states that he has had some knee problems in the past, but he believes that it was due to the repetition and the weight of the boxes. He states that the pain does not prevent him from doing his activities of daily living. By the end of the day on Saturday, his knee soreness interrupted his sleep. The patient has taken Tylenol and iced his knees for a short period of time, but nothing really seemed to help. The patient states that he had a kidney transplant a few years ago for some polycystic kidneys. He notes that he saw Dr. Gutierrez a couple of weeks ago, and everything was normal at that time. The patient continues to utilize his immunosuppressant medications. Regarding his hypothyroidism, the patient states that he is doing well. He has continued to utilize Synthroid regularly. In regards to his arthritis, the patient states that occasionally he has pain in his elbow, but nothing out of the ordinary. He denies any other symptoms such as fever, chills, muscle aches, nausea, vomiting, diarrhea, fatigue, and weight loss. REVIEW OF SYSTEMS • Constitutional: Denies fevers, chills, or weight loss. • Musculoskeletal: Denies muscle pain. Endorses joint pain in the bilateral knees. • Neurological: Denies headaches. PHYSICAL EXAMINATION • Cardiovascular: 2/6 systolic ejection murmur, stable. • Musculoskeletal: There is edema and erythema of the right knee with pain to palpation. Range of motion is decreased. Left knee exam is normal. RESULTS X-ray of the right knee is unremarkable. Good bony alignment. No acute fractures. Labs: Within normal limits. White blood cell count is within normal limits. Kidney function is normal. ASSESSMENT AND PLAN Andrew Perez is a 62-year-old male with a past medical history significant for a kidney transplant, hypothyroidism, and arthritis. He presents today with complaints of joint pain. Arthritis. • Medical Reasoning: The patient reports increased joint pain in his bilateral knees over the past weekend. Given that his right knee x-ray was unremarkable, I believe this is an acute exacerbation of his arthritis. • Additional Testing: We will order an autoimmune panel for further evaluation. • Medical Treatment: Initiate Ultram 50 mg every 6 hours as needed. • Patient Education and Counseling: I advised the patient to rest his knees. If his symptoms persist, we can consider further imaging and possibly a referral to physical therapy. Hypothyroidism. • Medical Reasoning: The patient is doing well on Synthroid and is asymptomatic at this time. • Additional Testing: We will order a thyroid panel. • Medical Treatment: Continue Synthroid. Status post renal transplant. • Medical Reasoning: He is doing well and has been compliant with his immunosuppressive medications. On recent labs, his white blood cell count was within a normal limits and his kidney function is stable. • Medical Treatment: Continue current regimen. Patient Agreements: The patient understands and agrees with the recommended medical treatment plan."
        ],
        [
         "2",
         "2",
         "hi , john . how are you ?  hey . well , relatively speaking , okay . good to see you .  good to see you as well . so i know the nurse told you about dax . i'm gon na tell dax a little bit about you .  okay .  so john is a 61-year-old male with a past medical history significant for kidney stones , migraines and reflux , who presents with some back pain . so john , what's going on with your back ?  uh , i'm feeling a lot of the same pain that i had when i had kidney stones about two years ago , so i'm a little concerned .  yeah . and so wh- what side of your back is it on ?  uh , honestly , it shifts . it started from the right side and it kinda moved over , and now i feel it in the left side of my back .  okay . and , um , how many days has this been going on for ?  the last four days .  okay . and is ... is the pain coming and going ?  um , at first it was coming and going , and then for about the last 48 hours , it's been a constant , and it's ... it's been pretty bad .  okay . and what have you taken for the pain ?  tylenol , but it really does n't seem to help .  yeah . okay . and do you have any blood in your urine ?  um , uh , it ... i think i do . it's kind of hard to detect , but it does look a little off-color .  okay . all right . um , and have you had , uh , any other symptoms like nausea and vomiting ?  um , if i'm doing something i'm ... i'm , uh , like exerting myself , like climbing the three flights of stairs to my apartment or running to catch the bus , i feel a little dizzy and a little light headed , and i ... i still feel a little bit more pain in my abdomen .  okay . all right . um , so let- let's talk a little bit about your ... your migraines . how are you doing with those ? i know we started you on the imitrex a couple months ago .  i've been pretty diligent about taking the meds . i ... i wan na make sure i stay on top of that , so i've been pretty good with that .  okay , so no issues with the migraine ?  none whatsoever .  okay . and how about your ... your acid reflux ? how are you doing with ... i know you were making some diet changes .  yeah , i've been pretty good with the diet , but with the pain i have been having, it has been easier to call and have something delivered. so i have been ordering a lot of take-out and fast food that can be delivered to my door so i don't have to go out and up and down the steps to get it myself. but other than that , it's been pretty good .  okay . are you staying hydrated ?  yes .  okay . all right . okay , well , let's go ahead and , uh , i know the nurse did a review of systems , you know , with you , and i know that you're endorsing some back pain and a little bit of dizziness , um , and some blood in your urine . any other symptoms ? you know , muscle aches , chest pain ... uh , body aches , anything like that ?  i have some body aches because i think i'm ... i'm favoring , um , my back when i'm walking because of the pain , like i kinda feel it in my muscles , but not out of the ordinary and not surprised 'cause i remember that from two years ago .  okay . all right . well , let's go ahead and ... and look at your vital signs today . hey , dragon ? show me the blood pressure . yeah , so your blood pressure's a little high today . that's probably because you're in some pain , um , but let ... let me just take a listen to your heart and lungs , and i'll let you know what i find , okay ?  sure .  okay , so on ... on physical exam , you do have some , uh , cda tenderness on the right-hand side , meaning that you're tender when i ... when i pound on that .  mm-hmm .  um , and your abdomen also feels a little tender . you have some tenderness of the palpation of the right lower quadrant , but other than that , your heart sounds nice and clear and your lungs are clear as well . so let's go ahead and take a look at some of your results , okay ?  sure .  hey , dragon ? show me the creatinine . so we ... we drew a creatinine when you came in here because i was concerned about the kidney stones . it ... it is uh ... it is up slightly , which might suggest that you have a little bit of a obstruction there of one-  mm-hmm .  . of the stones . okay ? hey , dragon . show me the abdominal x-rays . okay , and there might be a question of a ... uh , of a stone there lower down , uh , but we'll wait for the official read there . so the , uh , abdominal x-rays show a possible kidney stone , okay ?  okay .  so let's talk a little bit about my assessment and plan for you . so , for your first problem , your back pain , i think you're having a recurrence of your kidney stones . so i wan na go ahead and order a ct scan without contrast of your abdomen and pelvis . okay ?  mm-hmm .  and i'm also gon na order you some ultram 50 milligrams as needed every six hours for pain . does that sound okay ?  okay .  hey , dragon ? order ultram 50 milligrams every six hours as needed for pain . and i want you to push fluids and strain your urine . i know that you're familiar with that .  yes , i am .  for your next problem , for your migraines , let's continue you on the imitrex . and for your final problem , uh , for your reflux , uh , we have you on the protonix 40 milligrams a day . do you need a refill of that ?  actually , i do need a refill .  okay . hey , dragon ? order a refill of protonix 40 milligrams daily . okay . so the nurse will be in soon , and she'll help you get the cat scan scheduled . and i'll be in touch with you in ... in a day or so .  perfect .  if your symptoms worsen , just give me a call , okay ?  you got it .  take care .  thank you .  hey ... hey , dragon ? finalize the note .",
         "CHIEF COMPLAINT Back pain. HISTORY OF PRESENT ILLNESS Mr. John Perry is a 61-year-old male with a past medical history significant for kidney stones, migraines, and gastroesophageal reflux, who presents with some back pain. The patient reports that he is feeling a lot of the same pain that he had when he had kidney stones about 2 years ago, so he is a little concerned. The pain started from the right side and moved over and he feels it on the left side of his back. This has been going on for the last 4 days. Initially, the pain was intermittent, but over the last 48 hours it has been constant. He has taken Tylenol, but it does not seem to help. He thinks he has hematuria, but it is hard to detect but it does look a little off color. He endorses nausea and vomiting if he exerts himself or climbs the stairs to his apartment or runs to catch the bus. He also endorses dizziness and lightheadedness with pain in his abdomen. Regarding his migraines, he has been diligent about taking the Imitrex. He denies issues with the migraines. Regarding his gastroesophageal reflux, he reports that he has been doing well with his diet, but notes lately with his pain, he has been eating more fast food and takeout since these options come with delivery. He is staying hydrated. He is taking Protonix 40 mg daily as directed. REVIEW OF SYSTEMS • Gastrointestinal: Endorses abdominal pain. Endorses nausea and vomiting with exertion. • Genitourinary: Endorses urine discoloration. • Musculoskeletal: Endorses back pain. Endorses body aches. • Neurological: Denies headaches. Endorses dizziness and lightheadedness. PHYSICAL EXAMINATION • Respiratory: Lungs are clear to auscultation bilaterally. No wheezes, rales, or rhonchi. • Cardiovascular: No murmurs, gallops, or rubs. No extra heart sounds. • Gastrointestinal: Tender to palpation to the right lower quadrant. CVA tenderness on the right. VITALS REVIEWED • Blood Pressure: Elevated. RESULTS Creatinine level slightly elevated. Abdominal x-ray demonstrates possible kidney stone. ASSESSMENT AND PLAN Mr. John Perry is a 61-year-old male with a past medical history significant for kidney stones, migraines, and gastroesophageal reflux, who presents with back pain. Kidney stones. • Medical Reasoning: He is experiencing pain in his back that is similar to his previous kidney stone pain. His recent abdominal x-ray demonstrates what appears to be a recurrent kidney stone. • Additional Testing: I have ordered a CT scan of the abdomen and pelvis without contrast. • Medical Treatment: We will start him on Ultram 50 mg as needed every 6 hours for pain. • Patient Education and Counseling: I advised the patient to stay well hydrated and to strain his urine. Migraines. • Medical Reasoning: He has been compliant with Imitrex and is doing well at this time. • Medical Treatment: Continue Imitrex. Reflux. • Medical Reasoning: This is typically well-controlled with dietary modifications. • Medical Treatment: Continue with Protonix 40 mg daily. A refill was provided. Patient Agreements: The patient understands and agrees with the recommended medical treatment plan."
        ],
        [
         "3",
         "3",
         "hi , james , how are you ?  hey , good to see you .  it's good to see you , too . so , i know the nurse told you about dax .  mm-hmm .  i'd like to tell dax a little bit about you .  sure .  james is a 57-year-old male with a past medical history significant for congestive heart failure and type 2 diabetes who presents today with back pain .  mm-hmm .  so , james , what happened to your back ?  uh , i was golfing and i hurt my back when i went for my backswing .  okay . and did you feel a pop or a strain immediately or ?  i f- felt the pop , and i immediately had to hit the ground . i had to just try and do anything to loosen up my back .  okay . and how long ago did this happen ?  this was saturday morning .  okay . so , about four days ago ?  mm-hmm .  okay . um , and what have you taken for the pain ?  uh , i took some tylenol . i took some ibuprofen .  mm-hmm .  i tried ice . i tried heat , but nothing really worked .  okay . and , h- how are you feeling now ? are you still in the same amount of pain ?  uh , by monday morning , it loosened up a little bit , but it's still pretty sore .  okay . any other symptoms like leg weakness , pain in one leg , numbing or tingling ?  uh , i actually felt , um ... i had a struggle in my right foot like dropped foot . i had some struggling with my right leg . i felt that for a while , and it got a little bit better this morning but not much .  okay . all right . um , so , are you ... how are you doing walking around ?  uh , uh , uh , i'm , i'm not going anywhere fast or doing anything strenuous but i can walk around a little bit .  uh- .  not too fast .  all right . okay . um , and any history with your back in the past ?  i actually had surgery about 10 years ago on my lower back .  okay . all right . now , tell me a little bit about your , your heart failure . you know , i have n't seen you in a while .  mm-hmm .  how are you doing with your diet ?  um , been pretty good t- taking my medications , watching my diet , trying to , uh , trying to exercise regularly , too .  okay . so , you're avoiding the salty foods like we had talked about ?  yes .  okay . and any weight gain or swelling in your legs recently ?  a little bit of weight gain over the summer but nothing , nothing too radical , nothing more than five pounds .  okay . all right . and any problems laying flat while you go to bed ?  no .  okay . uh , and lastly , what about your diabetes ? how are you doing with , with that diet ? i remember you have somewhat of a sweet tooth .  yeah .  jelly beans ?  i love jelly beans , yeah , yeah . that's been a struggle , but i'm getting through it .  okay . all right . um , and you're watching your blood sugars at home ?  mm-hmm . i monitor it regularly . not always, i can forget, , but i'm pretty good about my measuring it .  okay . and you are still on your metformin ?  yes .  okay . all right . all right . now , i know the nurse did a review of symptoms sheet when you checked in .  mm-hmm .  i know that you were endorsing the back pain-  mm-hmm .  . and maybe a little weakness in your right leg . um , any other symptoms ? i know we went through a lot .  no .  okay . um , so , i wan na go ahead and move on to a physical exam , okay ?  mm-hmm .  hey , dragon , show me the vital signs . so , here in the office , you know , your vital signs look great . they look completely normal , which , which is really good .  good .  okay ? so , i'm just gon na check you out , and i'm gon na let you know what i find , okay ?  mm-hmm .  lean up . okay . all right . so , on your physical exam , everything seems fine .  good .  on your heart exam , i do appreciate a 2 out of 6 systolic ejection murmur , which we've heard in the past-  mm-hmm .  . so that's stable .  okay .  on your back exam , you do have some pain to palpation of the lumbar 5 or lumbar spine-  mm-hmm .  at the level of l5 .  okay .  you have , you know , decreased range of motion with flexion and extension , and , um , you have a positive straight leg raise . uh , for your strength , you do have a 4 out of 5 on your right and 5 out of 5 on your left .  so , what does that mean ? what does all that mean ? so , that basically means that , you know , i , i think that you probably , you know , have injured your , your back with a muscle strain , but we're gon na look at some of your results , okay ?  okay , sure .  hey , dragon , show me the back x-ray . so , in reviewing the results of your back x-ray , this is a normal x-ray of your lumbar spine . there's good boney alignment . i do n't see any abnormality there , which is not surprising based on the history , okay ?  hey , dragon , show me the diabetic labs . and this is just ... i just wanted to check your last , uh , diabetic labs that we did on you . uh , it looks like your hemoglobin a1c has been a little high at 8 . i'd like to see that a little bit lower around 7 , okay ?  okay .  um , so , let's just talk a little bit about my assessment and my plan for you . um , so , for your first problem , i think you have an acute lumbar , um , strain .  mm-hmm .  and i wan na go ahead and prescribe meloxicam 15 milligrams once a day , and i'd like to refer you to physical therapy to kind of strengthen that area . now , if you're still having symptoms , i wan na go ahead and , uh , order an mri-  mm-hmm .  . just to make sure that you do n't have any disc herniation or anything like that , okay ?  that's fine .  how does that sound ?  no problem .  hey , dragon , order meloxicam 15 milligrams once a day . for your next problem , your type 2 diabetes , i would like to increase your metformin to 1,000 milligrams twice daily-  mm-hmm .  . and i wan na go ahead and order another hemoglobin a1c in a couple weeks , or , i'm sorry , a couple months .  okay .  all right ? hey , dragon , order a hemoglobin a1c . and for your congestive heart failure , uh , i think you're doing really well with it . um , you know , i wan na just continue you on your current medications , your lisinopril and your lasix . now , do you need a refill-  actually , i-  of the lisinopril ?  actually , i do .  okay . hey , dragon , order a refill of lisinopril 20 milligrams once a day . and so , the nurse will come in . she's gon na help you get checked out . i wan na see you again in a couple weeks , okay ?  that's fine .  um , any questions ?  not at this point .  okay . hey , dragon , finalize the note .",
         "CHIEF COMPLAINT Back pain. HISTORY OF PRESENT ILLNESS James Allen is a 57-year-old male with a past medical history significant for congestive heart failure and type 2 diabetes, who presents today with back pain. The patient states he was golfing and hurt his back. This happened approximately 4 days ago when he felt a pop in his back. The patient notes that he immediately hit the ground trying to loosen up his back. He reports taking some Tylenol, ibuprofen, and using ice and heat which did not relieve the pain. By Monday morning it loosened up a little bit, but it is still pretty sore. He had some right lower extremity weakness and some drop foot that he felt that for a while, and it got a little better this morning but not much. He had surgery about 10 years ago in his lower back. Regarding his congestive heart failure, he has been watching his diet and trying to exercise regularly. He is avoiding the salty foods and has been compliant with medications. He has gained a little weight over the summer but nothing more than 5 pounds. He has no problems lying flat to go to bed. Regarding his diabetes, he is watching his blood sugars at home, not always consistently. He is still on his metformin. REVIEW OF SYSTEMS • Constitutional: Denies weight loss. Endorses weight gain. • Musculoskeletal: Endorses back pain. Endorses right leg weakness and drop foot. PHYSICAL EXAMINATION • Cardiovascular: Grade 2/6 systolic ejection murmur, stable. • Musculoskeletal: Examination of his back reveals pain to palpation at L5. Decreased range of motion with flexion and extension. Positive straight leg raise. Strength is 4/5 on the right and 5/5 on the left. Results: X-ray lumbar spine, ordered and obtained in the office today, is unremarkable with good bony alignment. Hemoglobin A1c is elevated at 8. ASSESSMENT AND PLAN James Allen is a 57-year-old male with a past medical history significant for congestive heart failure and type 2 diabetes, who presents today with back pain. Acute lumbar strain. • Medical Reasoning: The patient reports feeling a 'pop' and immediate pain while golfing approximately 4 days ago. He has tried Tylenol and ibuprofen without significant relief. • Additional Testing: If he continues to have pain, we will obtain an MRI for further evaluation. • Medical Treatment: Initiate meloxicam 15 mg once daily. • Specialist Referrals: We will refer him to physical therapy to work on strengthening the area. Diabetes type 2. • Medical Reasoning: He has been compliant with metformin and dietary modifications, but his recent hemoglobin A1c was 8. • Additional Testing: Repeat hemoglobin A1c in a couple of months. • Medical Treatment: Increase metformin to 1000 mg twice daily. Congestive heart failure. • Medical Reasoning: He is doing well from this standpoint. He has been compliant with his medications, dietary modifications, and regular physical activity. • Medical Treatment: Continue lisinopril 20 mg once daily and Lasix. Lisinopril was refilled today. Patient Agreements: The patient understands and agrees with the recommended medical treatment plan. INSTRUCTIONS The patient will follow-up in 2 weeks."
        ],
        [
         "4",
         "4",
         "hey , ms. hill . nice to see you .  hi , dr. james , good to see you .  hey , dragon , i'm seeing ms. hill . she's a 41-year-old female , and what brings you in today ?  um , i am having a lot of pain at the end of my right middle finger .  what did you do ?  a little embarrassing . um , i got rear-ended , slow motor , uh , vehicle accident , and i got really angry with the person who hit me , so i went to flip him the bird , but i was a little too enthusiastic .  and i hit the ceiling of the car .  okay . when did this happen ?  uh , it was saturday , so about four , five days ago .  five days ago . what were you doing ? were you , like , stopped at a stoplight ? a stop sign ?  yes . so i was stopped at a four-way stop , and it was not my turn to go . there were other cars going , and the person behind me just was n't watching . i think they were texting and rear-ended me .  how much damage to your car ?  uh , not too much . the , the trunk crumpled up a little bit .  okay . and no other injuries ? just the finger ?  just the middle finger .  so you would've escaped this accident without any injuries ?  yes . uh , i'm not proud .  okay . um , so four days of right middle finger pain-  yes .  . after a motor vehicle accident .  yes .  all right . um , let's look at your x-ray . hey , dragon , show me the last x-ray . so what i'm seeing here is on the tip of this middle finger , you actually have a fracture . so you have a distal phalanx fracture in the middle finger . very ...  great .  very interesting . let me check it out . um , so does it hurt when i push right here ?  yes .  and does that hurt ?  very much so .  what about down here ?  no .  okay . so generally , your exam is normal other than you've got tenderness over your distal phalanx of your right middle finger . um , so your diagnosis is distal phalanx fracture of the middle finger or the third finger . and i'm gon na put you on a little bit of pain medicine just to help , just , like , two days' worth . okay , so tramadol , 50 milligrams , every six hours as needed for pain . i'm gon na dispense eight of those .  okay .  and then , um , i'm gon na put you in a finger splint and have you come back in two weeks to get a follow-up x-ray . any questions for me ?  yes . so i'm taking digoxin for afib . will the tramadol be okay with that ?  it will be okay . so you have atrial fibrillation .  yes .  you take digoxin . all right . any other questions for me ?  no , that's it . thank you .  you're welcome . hey , dragon , go ahead and finalize the recording , and , uh , come with me . we'll get you checked out .",
         "CC: Right middle finger pain. HPI: Ms. Hill is a 41-year-old female who presents today for an evaluation of right middle finger pain after she was rear-ended in a motor vehicle accident. She has no other injuries. CURRENT MEDICATIONS: Digoxin PAST MEDICAL HISTORY: Atrial Fibrillation EXAM Examination of the right middle finger shows tenderness over the distal phalanx. RESULTS X-rays of the right middle finger, 3 views obtained on today's visit shows a comminuted distal phalanx fracture. IMPRESSION Right middle finger distal phalanx fracture. PLAN At this point, I discussed the diagnosis and treatment options with the patient. I recommend a prescription for Tramadol 50 mg every 6 hours as needed for pain, dispense 8. She is provided a finger splint and will return in 2 weeks for a follow-up x-ray. All questions were answered."
        ]
       ],
       "shape": {
        "columns": 3,
        "rows": 5
       }
      },
      "text/html": [
       "<div>\n",
       "<style scoped>\n",
       "    .dataframe tbody tr th:only-of-type {\n",
       "        vertical-align: middle;\n",
       "    }\n",
       "\n",
       "    .dataframe tbody tr th {\n",
       "        vertical-align: top;\n",
       "    }\n",
       "\n",
       "    .dataframe thead th {\n",
       "        text-align: right;\n",
       "    }\n",
       "</style>\n",
       "<table border=\"1\" class=\"dataframe\">\n",
       "  <thead>\n",
       "    <tr style=\"text-align: right;\">\n",
       "      <th></th>\n",
       "      <th>Unnamed: 0</th>\n",
       "      <th>dialogue</th>\n",
       "      <th>assessment</th>\n",
       "    </tr>\n",
       "  </thead>\n",
       "  <tbody>\n",
       "    <tr>\n",
       "      <th>0</th>\n",
       "      <td>0</td>\n",
       "      <td>hi , martha . how are you ?  i'm doing okay . ...</td>\n",
       "      <td>CHIEF COMPLAINT Annual exam. HISTORY OF PRESEN...</td>\n",
       "    </tr>\n",
       "    <tr>\n",
       "      <th>1</th>\n",
       "      <td>1</td>\n",
       "      <td>hi , andrew , how are you ?  hi . good to see ...</td>\n",
       "      <td>CHIEF COMPLAINT Joint pain. HISTORY OF PRESENT...</td>\n",
       "    </tr>\n",
       "    <tr>\n",
       "      <th>2</th>\n",
       "      <td>2</td>\n",
       "      <td>hi , john . how are you ?  hey . well , relati...</td>\n",
       "      <td>CHIEF COMPLAINT Back pain. HISTORY OF PRESENT ...</td>\n",
       "    </tr>\n",
       "    <tr>\n",
       "      <th>3</th>\n",
       "      <td>3</td>\n",
       "      <td>hi , james , how are you ?  hey , good to see ...</td>\n",
       "      <td>CHIEF COMPLAINT Back pain. HISTORY OF PRESENT ...</td>\n",
       "    </tr>\n",
       "    <tr>\n",
       "      <th>4</th>\n",
       "      <td>4</td>\n",
       "      <td>hey , ms. hill . nice to see you .  hi , dr. j...</td>\n",
       "      <td>CC: Right middle finger pain. HPI: Ms. Hill is...</td>\n",
       "    </tr>\n",
       "  </tbody>\n",
       "</table>\n",
       "</div>"
      ],
      "text/plain": [
       "   Unnamed: 0                                           dialogue  \\\n",
       "0           0  hi , martha . how are you ?  i'm doing okay . ...   \n",
       "1           1  hi , andrew , how are you ?  hi . good to see ...   \n",
       "2           2  hi , john . how are you ?  hey . well , relati...   \n",
       "3           3  hi , james , how are you ?  hey , good to see ...   \n",
       "4           4  hey , ms. hill . nice to see you .  hi , dr. j...   \n",
       "\n",
       "                                          assessment  \n",
       "0  CHIEF COMPLAINT Annual exam. HISTORY OF PRESEN...  \n",
       "1  CHIEF COMPLAINT Joint pain. HISTORY OF PRESENT...  \n",
       "2  CHIEF COMPLAINT Back pain. HISTORY OF PRESENT ...  \n",
       "3  CHIEF COMPLAINT Back pain. HISTORY OF PRESENT ...  \n",
       "4  CC: Right middle finger pain. HPI: Ms. Hill is...  "
      ]
     },
     "execution_count": 3,
     "metadata": {},
     "output_type": "execute_result"
    }
   ],
   "source": [
    "import pandas as pd\n",
    "\n",
    "# df = pd.read_csv('/home/tahlilmahfuz/NLP Project/train/findings.csv')\n",
    "# df = pd.read_csv('/home/tahlilmahfuz/NLP Project/train/summarization.csv')\n",
    "# df = pd.read_csv('/home/tahlilmahfuz/NLP Project/train/notes.csv')\n",
    "df = pd.read_csv('/home/tahlilmahfuz/NLP Project/train/dialogues.csv')\n",
    "df.head(5)"
   ]
  },
  {
   "cell_type": "code",
   "execution_count": 4,
   "id": "8042b5a7",
   "metadata": {},
   "outputs": [],
   "source": [
    "# ---------------- Few-Shot Prompt Templates ----------------\n",
    "finding_few_shot = \"\"\"\n",
    "Expertise: You are an expert medical professional.\n",
    "\n",
    "Instruction:\n",
    "Summarize the radiology report findings into an impression with minimal text.\n",
    "\n",
    "Examples\n",
    "Use the examples to guide word choice.\n",
    "\n",
    "finding 1: Cardiomediastinal silhouette is normal. There is no pleural effusion or pneumothorax. There is no focal lung consolidation.\n",
    "impression 1: No radiographic explanation for chest pain.\n",
    "##\n",
    "finding 2: The lungs are relatively well-expanded and clear. The cardiomediastinal silhouette is unremarkable. The hilar pleural surfaces are within normal limits. Mild degenerative changes are noted throughout the thoracic spine.\n",
    "impression 2: No acute cardiopulmonary process.\n",
    "##\n",
    "\n",
    "\"\"\"\n",
    "\n",
    "summerization_few_shot = \"\"\"\n",
    "Expertise\n",
    "You are a helpful medical assistant.\n",
    "\n",
    "Instruction (task-specific)\n",
    "Summarize the patient health query into one question of 15 words or less.\n",
    "\n",
    "Examples\n",
    "Use the examples to guide word choice.\n",
    "\n",
    "prompt 1: \n",
    "Task: Convert verbose patient questions into short medical questions.\n",
    "Input: acute constipation Sir, 1. I wish to know if severe constipation/non clearence of bowels is also related to Diabetes in old age people. 2. Request if you may provide any medical paper associated to my query.\n",
    "\n",
    "response 1: Does diabetes affect bowel movements?\n",
    "##\n",
    "prompt 2: \n",
    "Task: Convert verbose patient questions into short medical questions.\n",
    "Input: I was trying get more information on Pain associated with Polycythemia Vera and medications usually used to treat pain in Polycythemia vera. Thank you, [NAME]\n",
    "\n",
    "response 2: What treatments are available for pain associated with Polycythemia Vera?\n",
    "##\n",
    "\"\"\"\n",
    "\n",
    "note_few_shot = \"\"\"\n",
    "Expertise\n",
    "You are an expert clinician.\n",
    "\n",
    "Instruction (task-specific)\n",
    "Based on the progress note, generate a list of 3–7 problems (a few words each) \n",
    "ranked in order of importance.\n",
    "\n",
    "Examples\n",
    "Use the examples to guide word choice.\n",
    "\n",
    "note 1: \n",
    "**History** The patient reported experiencing a cough, primarily occurring in the morning, which has persisted for several days. Additionally, they described a scraping pain in the windpipe, particularly noticeable during deep breaths and coughing episodes. The patient has a history of smoking, which may exacerbate respiratory symptoms. They have not experienced dyspnea or fever. The patient mentioned that the cough is productive at times with occasional slightly discolored sputum. **Physical Examination** Upon examination, the patient's lung sounds were clear with no wheezes, rales, or rhonchi. There was no evidence of respiratory distress, and oxygen saturation was within the normal range. Chest symmetry observed with no use of accessory muscles noted. Throat examination revealed mild erythema but no significant abnormalities.\n",
    "problem 1:\n",
    "**History** Pt reports morning cough for several days with scraping pain in windpipe, esp. on deep breaths and coughing. HX: smoker. No dyspnea/fever. Occasionally, cough is productive with slightly discolored sputum. **Physical Examination** Lungs: CTA, no wheezes/rales/rhonchi. No respiratory distress; O2 sat WNL; chest symm., no accessory muscle use. Throat: mild erythema, otherwise unremarkable.\n",
    "##\n",
    "note 2: \n",
    "**History** Patient reports experiencing burning pain localized to the trachea. The onset of symptoms began approximately three days ago. The patient describes the pain as constant with varying degrees of intensity throughout the day, and it worsens when breathing deeply. There are no associated nasal symptoms such as congestion or runny nose. The patient denies experiencing any dyspnea, wheezing, or shortness of breath. No prior history of similar pain episodes. **Physical Examination** Vital signs are within normal limits. Inspection of the oropharynx reveals no abnormalities. Respiratory examination indicates normal breath sounds with no wheezing or crackles auscultated. No tracheal deviation or palpable tracheal tenderness noted. Cardiovascular examination is unremarkable. The patient's overall physical examination does not reveal any overt cause for the burning tracheal pain.\n",
    "problem 2:\n",
    "**History** Pt c/o burning pain localized to trachea x3 days. Pain constant, varies in intensity, worse with deep breaths. No assoc. nasal sx (congestion, runny nose). Pt denies dyspnea, wheezing, sob. No prior similar episodes. **Physical Examination** VS WNL. Oropharynx nl. Resp exam: nl breath sounds, no wheezing/crackles. No tracheal deviation or tenderness. CVS exam unremarkable. Overall, PE does not reveal overt cause for burning tracheal pain.\n",
    "##\n",
    "\"\"\"\n",
    "\n",
    "dialogue_few_shot = \"\"\"\n",
    "Expertise: You are an expert radiologist.\n",
    "\n",
    "Instruction (task-specific)\n",
    "Summarize the patient/doctor dialogue into an assessment and plan.\n",
    "\n",
    "Examples\n",
    "Use the examples to guide word choice.\n",
    "\n",
    "dialogue 1: \n",
    "hi , martha . how are you ?  i'm doing okay . how are you ?  i'm doing okay . so , i know the nurse told you about dax . i'd like to tell dax a little bit about you , okay ?  okay .  martha is a 50-year-old female with a past medical history significant for congestive heart failure , depression and hypertension who presents for her annual exam . so , martha , it's been a year since i've seen you . how are you doing ?  i'm doing well . i've been traveling a lot recently since things have , have gotten a bit lighter . and i got my , my vaccine , so i feel safer about traveling . i've been doing a lot of hiking . uh , went to washington last weekend to hike in northern cascades, like around the mount baker area .  nice . that's great . i'm glad to hear that you're staying active , you know . i , i just love this weather . i'm so happy the summer is over . i'm definitely more of a fall person .  yes , fall foliage is the best .  yeah . um , so tell me , how are you doing with the congestive heart failure ? how are you doing watching your diet ? i know we've talked about watching a low sodium diet . are you doing okay with that ?  i've been doing well with that . i resisted , as much , as i could , from the tater tots , you know , the soft pretzels , the salty foods that i , i love to eat . and i've been doing a really good job .  okay , all right . well , i'm glad to hear that . and you're taking your medication ?  yes .  okay , good . and any symptoms like chest pains , shortness of breath , any swelling in your legs ?  no , not that i've noticed .  okay , all right . and then in terms of your depression , i know that we tried to stay off of medication in the past because you're on medications for your other problems . how are you doing ? and i know that you enrolled into therapy . is that helping ? or-  yeah , it's been helping a lot . i've been going every week , um , for the past year since my last annual exam . and that's been really helpful for me .  okay . so , no , no issues , no feelings of wanting to harm yourself or hurt others ?  no , nothing like that .  okay , all right . and then in terms of your high blood pressure , i know that you and i have kind of battled in the past with you remembering to take some of your blood pressure medications . how are you doing with that ?  i'm still forgetting to take my blood pressure medication . and i've noticed when work gets more stressful , my blood pressure goes up .  okay . and , and so how has work going for you ?  it's been okay . it's been a lot of long hours , late nights . a lot of , um , you know , fiscal year end data that i've been having to pull . so , a lot of responsibility , which is good . but with the responsibility comes the stress .  yeah , okay , all right . i understand . um , all right . well , i know that you did a review of system sheet when you checked in with the nurse . i know that you were endorsing some nasal congestion from some of the fall pollen and allergies . any other symptoms , nausea or vomiting , abdominal pain , anything like that ?  no , nothing like that .  no , okay , all right . well , i'm gon na go ahead and do a quick physical exam , okay ?  okay .  hey , dragon , show me the blood pressure . so , yeah , looking at your blood pressure today here in the office , it is a little elevated . you know , it could just , you could just be nervous . uh , let's look at some of the past readings . hey , dragon , show me the blood pressure readings . hey , dragon , show me the blood pressure readings . here we go . uh , so they are running on the higher side . um , y- you know , i , i do think that , you know , i'd like to see you take your medication a little bit more , so that we can get that under control a little bit better , okay ?  okay .  so , i'm just gon na check out your heart and your lungs . and you know , let you know what i find , okay ?  okay .  okay . so , on your physical examination , you know , everything looks good . on your heart exam , i do appreciate a three out of six systolic ejection murmur , which i've heard in the past , okay ? and on your lower extremities , i do appreciate one plus pitting edema , so you do have a little bit of fluid in your legs , okay ?  okay .  let's go ahead , i wan na look at some of your results , okay ? hey , dragon , show me the echocardiogram . so , this is the result of the echocardiogram that we did last year . it showed that you have that low-ish pumping function of your heart at about 45 % . and it also sh- shows some mitral regurgitation , that's that heart murmur that i heard , okay ?  um , hey , dragon , show me the lipid panel . so , looking at your lipid panel from last year , you know , everything , your cholesterol was like , a tiny bit high . but it was n't too , too bad , so i know you're trying to watch your diet . so , we'll repeat another one this year , okay ?  okay .  um , so i wan na just go over a little bit about my assessment and my plan for you , okay ? so , for your first problem your congestive heart failure , um , i wan na continue you on your current medications . but i do wan na increase your lisinopril to 40 milligrams a day , just because your blood pressure's high . and you know , you are retaining a little bit of fluid . i also wan na start you on some lasix , you know , 20 milligrams a day . and have you continue to watch your , your diet , okay ?  okay .  i also wan na repeat another echocardiogram , okay ?  all right .  hey , dragon , order an echocardiogram . from a depression standpoint , it sounds like you're doing really well with that . so , i'm , i'm really happy for you . i'm , i'm glad to see that you're in therapy and you're doing really well . i do n't feel the need to start you on any medications this year , unless you feel differently .  no , i feel the same way .  okay , all right . and then for your last problem your hypertension , you know , again i , i , i think it's out of control . but we'll see , i think , you know , i'd like to see you take the lisinopril as directed , okay ? uh , i want you to record your blood pressures within the patient , you know , take your blood pressure every day . record them to me for like , about a week , so i have to see if we have to add another agent , okay ? 'cause we need to get that under better control for your heart failure to be more successful , okay ?  okay .  do you have any questions ? , and i forgot . for your annual exam , you're due for a mammogram , so we have to schedule for that , as well , okay ?  okay .  okay . do you have any questions ?  can i take all my pills at the same time ?  yeah .  'cause i've been trying to take them at different times of the day , 'cause i did n't know if it was bad to take them all at once or i should separate them . i do n't know .  yeah . you can certainly take them , you know , all at the same time , as long , as yeah , they're all one scale . you can take them all at the same time . just set an alarm-  okay .  . some time during the day to take them , okay ?  that might help me remember better .  all right . that sounds good . all right , well , it's good to see you .  good seeing you too .  hey , dragon , finalize the note .\n",
    "assessment 1:\n",
    "CHIEF COMPLAINT Annual exam. HISTORY OF PRESENT ILLNESS Martha Collins is a 50-year-old female with a past medical history significant for congestive heart failure, depression, and hypertension who presents for her annual exam. It has been a year since I last saw the patient. The patient has been traveling a lot recently since things have gotten a bit better. She reports that she got her COVID-19 vaccine so she feels safer about traveling. She has been doing a lot of hiking. She reports that she is staying active. She has continued watching her diet and she is doing well with that. The patient states that she is avoiding salty foods that she likes to eat. She has continued utilizing her medications. The patient denies any chest pain, shortness of breath, or swelling in her legs. Regarding her depression, she reports that she has been going to therapy every week for the past year. This has been really helpful for her. She denies suicidal or homicidal ideation. The patient reports that she is still forgetting to take her blood pressure medication. She has noticed that when work gets more stressful, her blood pressure goes up. She reports that work has been going okay, but it has been a lot of long hours lately. She endorses some nasal congestion from some of the fall allergies. She denies any other symptoms of nausea, vomiting, abdominal pain. REVIEW OF SYSTEMS • Ears, Nose, Mouth and Throat: Endorses nasal congestion from allergies. • Cardiovascular: Denies chest pain or dyspnea on exertion. • Respiratory: Denies shortness of breath. • Gastrointestinal: Denies abdominal pain, nausea, or vomiting. • Psychiatric: Endorses depression. Denies suicidal or homicidal ideations. PHYSICAL EXAMINATION • Cardiovascular: Grade 3/6 systolic ejection murmur. 1+ pitting edema of the bilateral lower extremities. VITALS REVIEWED • Blood Pressure: Elevated. RESULTS Echocardiogram demonstrates decreased ejection fraction of 45%. Mitral regurgitation is present. Lipid panel: Elevated cholesterol. ASSESSMENT AND PLAN Martha Collins is a 50-year-old female with a past medical history significant for congestive heart failure, depression, and hypertension who presents for her annual exam. Congestive heart failure. • Medical Reasoning: She has been compliant with her medication and dietary modifications. Her previous year's echocardiogram demonstrated a reduced ejection fraction of 45%, as well as some mitral regurgitation. Her cholesterol levels were slightly elevated on her lipid panel from last year. • Additional Testing: We will order a repeat echocardiogram. We will also repeat a lipid panel this year. • Medical Treatment: She will continue with her current medications. We will increase her lisinopril to 40 mg daily and initiate Lasix 20 mg daily. • Patient Education and Counseling: I encouraged her to continue with dietary modifications. Depression. • Medical Reasoning: She is doing well with weekly therapy. Hypertension. • Medical Reasoning: She has been compliant with dietary modifications but has been inconsistent with the use of her medication. She attributes elevations in her blood pressure to increased stress. • Medical Treatment: We will increase her lisinopril to 40 mg daily as noted above. • Patient Education and Counseling: I encouraged the patient to take her lisinopril as directed. I advised her to monitor her blood pressures at home for the next week and report them to me. Healthcare maintenance. • Medical Reasoning: The patient is due for her routine mammogram. • Additional Testing: We will order a mammogram and have this scheduled for her. Patient Agreements: The patient understands and agrees with the recommended medical treatment plan.\n",
    "Plan: Adjust medications, recommend dietary changes, follow-up in 2 weeks\n",
    "##\n",
    "dialogue 2: \n",
    "hi , andrew , how are you ?  hi . good to see you .  it's good to see you as well . so i know that the nurse told you about dax . i'd like to tell dax a little bit about you .  sure .  okay ? so , andrew is a 62-year-old male with a past medical history significant for a kidney transplant , hypothyroidism , and arthritis , who presents today with complaints of joint pain . andrew , what's going on with your joint ? what happened ?  uh , so , over the the weekend , we've been moving boxes up and down our basements stairs , and by the end of the day my knees were just killing me .  okay . is , is one knee worse than the other ?  equally painful .  okay .  both of them .  and did you , did you injure one of them ?  um , uh , i've had some knee problems in the past but i think it was just the repetition and the weight of the boxes .  okay . all right . and , and what have you taken for the pain ?  a little tylenol . i iced them for a bit . nothing really seemed to help , though .  okay . all right . um , and does it prevent you from doing , like , your activities of daily living , like walking and exercising and things like that ?  uh , saturday night it actually kept me up for a bit . they were pretty sore .  mm-hmm . okay . and any other symptoms like fever or chills ?  no .  joint pain ... i mean , like muscle aches ?  no .  nausea , vomiting , diarrhea ?  no .  anything like that ?  no .  okay . all right . now , i know that you've had the kidney transplant a few years ago for some polycystic kidneys .  mm-hmm .  um , how are you doing with that ? i know that you told dr. gutierrez-  mm .  . a couple of weeks ago .  yes .  everything's okay ?  so far , so good .  all right . and you're taking your immunosuppressive medications ?  yes , i am .  okay . all right . um , and did they have anything to say ? i have n't gotten any reports from them , so ...  no , n- nothing out of the ordinary , from what they reported .  okay . all right . um , and in terms of your hyperthyroidism , how are you doing with the synthroid ? are you doing okay ?  uh , yes , i am .  you're taking it regularly ?  on the clock , yes .  yes . okay . and any fatigue ? weight gain ? anything like that that you've noticed ?  no , nothing out of the ordinary .  okay . and just in general , you know , i know that we've kind of battled with your arthritis .  mm-hmm .  you know , it's hard because you ca n't take certain medications 'cause of your kidney transplant .  sure .  so other than your knees , any other joint pain or anything like that ?  every once in a while , my elbow , but nothing , nothing out of the ordinary .  okay . all right . now i know the nurse did a review of systems sheet when you checked in . any other symptoms i might have missed ?  no .  no headaches ?  no headaches .  anything like that w- ... okay . all right . well , i wan na go ahead and do a quick physical exam , all right ? hey , dragon , show me the vital signs . so here in the office , your vital signs look good . you do n't have a fever , which is good .  mm-hmm .  your heart rate and your , uh , blood pressure look fine . i'm just gon na check some things out , and i'll let you know what i find , okay ?  perfect .  all right . does that hurt ?  a little bit . that's tender .  okay , so on physical examination , on your heart exam , i do appreciate a little two out of six systolic ejection murmur-  mm-hmm .  . which we've heard in the past . okay , so that seems stable . on your knee exam , there is some edema and some erythema of your right knee , but your left knee looks fine , okay ? um , you do have some pain to palpation of the right knee and some decreased range of motion , um , on exam , okay ? so what does that mean ? so we'll go ahead and we'll see if we can take a look at some of these things . i know that they did an x-ray before you came in , okay ?  mm-hmm .  so let's take a look at that .  sure .  hey , dragon , show me the right knee x-ray . so here's the r- here's your right knee x-ray . this basically shows that there's good bony alignment . there's no acute fracture , which is not surprising , based on the history .  mm-hmm .  okay ? hey , dragon , show me the labs . and here , looking at your lab results , you know , your white blood cell count is not elevated , which is good . you know , we get concerned about that in somebody who's immunocompromised .  mm-hmm .  and it looks like your kidney function is also very good . so i'm , i'm very happy about that .  yeah .  okay ? so i just wan na go over a little bit about my assessment and my plan for you .  mm-hmm .  so for your knee pain , i think that this is an acute exacerbation of your arthritis , okay ? so i wan na go ahead and if ... and prescribe some ultram 50 milligrams every six hours as needed .  okay .  okay ? i also wan na go ahead and just order an autoimmune panel , okay ? hey , dragon , order an autoimmune panel . and you know , i , i want , i want you to just take it easy for right now , and if your symptoms continue , we'll talk about further imaging and possibly referral to physical therapy , okay ?  you got it .  for your second problem , your hypothyroidism , i wan na go ahead and continue you on this ... on the synthroid , and i wan na go ahead and order some thyroid labs , okay ?  sure .  hey , dragon , order a thyroid panel . and then for your last problem , the arthritis , you know , we just kinda talked about that . you know , it's gon na be a struggle for you because again , you ca n't take some of those anti-inflammatory medications because of your kidney transplant , so ...  mm-hmm .  you know , let's see how we do over the next couple weeks , and again , we'll refer you to physical therapy if we need to , okay ?  you got it .  you have any questions ?  not at this point .  okay . hey , dragon , finalize the note .\n",
    "assessment 2:\n",
    "CHIEF COMPLAINT Joint pain. HISTORY OF PRESENT ILLNESS Andrew Perez is a 62-year-old male with a past medical history significant for a kidney transplant, hypothyroidism, and arthritis. He presents today with complaints of joint pain. The patient reports that over the weekend, he was moving boxes up and down the basement stairs. By the end of the day, his knees were very painful. The pain is equal in the bilateral knees. He states that he has had some knee problems in the past, but he believes that it was due to the repetition and the weight of the boxes. He states that the pain does not prevent him from doing his activities of daily living. By the end of the day on Saturday, his knee soreness interrupted his sleep. The patient has taken Tylenol and iced his knees for a short period of time, but nothing really seemed to help. The patient states that he had a kidney transplant a few years ago for some polycystic kidneys. He notes that he saw Dr. Gutierrez a couple of weeks ago, and everything was normal at that time. The patient continues to utilize his immunosuppressant medications. Regarding his hypothyroidism, the patient states that he is doing well. He has continued to utilize Synthroid regularly. In regards to his arthritis, the patient states that occasionally he has pain in his elbow, but nothing out of the ordinary. He denies any other symptoms such as fever, chills, muscle aches, nausea, vomiting, diarrhea, fatigue, and weight loss. REVIEW OF SYSTEMS • Constitutional: Denies fevers, chills, or weight loss. • Musculoskeletal: Denies muscle pain. Endorses joint pain in the bilateral knees. • Neurological: Denies headaches. PHYSICAL EXAMINATION • Cardiovascular: 2/6 systolic ejection murmur, stable. • Musculoskeletal: There is edema and erythema of the right knee with pain to palpation. Range of motion is decreased. Left knee exam is normal. RESULTS X-ray of the right knee is unremarkable. Good bony alignment. No acute fractures. Labs: Within normal limits. White blood cell count is within normal limits. Kidney function is normal. ASSESSMENT AND PLAN Andrew Perez is a 62-year-old male with a past medical history significant for a kidney transplant, hypothyroidism, and arthritis. He presents today with complaints of joint pain. Arthritis. • Medical Reasoning: The patient reports increased joint pain in his bilateral knees over the past weekend. Given that his right knee x-ray was unremarkable, I believe this is an acute exacerbation of his arthritis. • Additional Testing: We will order an autoimmune panel for further evaluation. • Medical Treatment: Initiate Ultram 50 mg every 6 hours as needed. • Patient Education and Counseling: I advised the patient to rest his knees. If his symptoms persist, we can consider further imaging and possibly a referral to physical therapy. Hypothyroidism. • Medical Reasoning: The patient is doing well on Synthroid and is asymptomatic at this time. • Additional Testing: We will order a thyroid panel. • Medical Treatment: Continue Synthroid. Status post renal transplant. • Medical Reasoning: He is doing well and has been compliant with his immunosuppressive medications. On recent labs, his white blood cell count was within a normal limits and his kidney function is stable. • Medical Treatment: Continue current regimen. Patient Agreements: The patient understands and agrees with the recommended medical treatment plan.\n",
    "Plan: Start physiotherapy, prescribe NSAIDs, encourage weight management\n",
    "##\n",
    "\"\"\""
   ]
  },
  {
   "cell_type": "markdown",
   "id": "5e45bcff",
   "metadata": {},
   "source": [
    "# In Context Learning"
   ]
  },
  {
   "cell_type": "markdown",
   "id": "5be39265",
   "metadata": {},
   "source": [
    "### Data preprocessing"
   ]
  },
  {
   "cell_type": "code",
   "execution_count": 5,
   "id": "959a9947",
   "metadata": {},
   "outputs": [],
   "source": [
    "# import pandas as pd\n",
    "# import os\n",
    "\n",
    "# if not os.path.exists('datasets'):\n",
    "#     os.makedirs('dataset/train')\n",
    "#     os.makedirs('dataset/validate')\n",
    "\n",
    "# # training set\n",
    "# df = pd.read_csv(f'{os.getcwd()}/train/dialogues.csv')\n",
    "# df = df.dropna()\n",
    "# df.to_csv(f'dataset/train/dialogues.csv', index=False)\n",
    "\n",
    "# df = pd.read_csv(f'{os.getcwd()}/train/findings.csv')\n",
    "# df = df.dropna()\n",
    "# df.to_csv(f'dataset/train/findings.csv', index=False)\n",
    "\n",
    "# df = pd.read_csv(f'{os.getcwd()}/train/notes.csv')\n",
    "# df = df.dropna()\n",
    "# df.to_csv(f'dataset/train/notes.csv', index=False)\n",
    "# df = pd.read_csv(f'{os.getcwd()}/train/summarization.csv')\n",
    "# df = df.dropna()\n",
    "# df.to_csv(f'dataset/train/summarization.csv', index=False)\n",
    "\n",
    "# # validation set\n",
    "# df = pd.read_csv(f'{os.getcwd()}/validate/dialogues.csv')\n",
    "# df = df.dropna()\n",
    "# df.to_csv(f'dataset/validate/dialogues.csv', index=False)\n",
    "\n",
    "# df = pd.read_csv(f'{os.getcwd()}/validate/findings.csv')\n",
    "# df = df.dropna()\n",
    "# df.to_csv(f'dataset/validate/findings.csv', index=False)\n",
    "\n",
    "# df = pd.read_csv(f'{os.getcwd()}/validate/notes.csv')\n",
    "# df = df.dropna()\n",
    "# df.to_csv(f'dataset/validate/notes.csv', index=False)\n",
    "# df = pd.read_csv(f'{os.getcwd()}/validate/summarization.csv')\n",
    "# df = df.dropna()\n",
    "# df.to_csv(f'dataset/validate/summarization.csv', index=False)"
   ]
  },
  {
   "cell_type": "markdown",
   "id": "e0c83ca2",
   "metadata": {},
   "source": [
    "### Rag Pipeline"
   ]
  },
  {
   "cell_type": "code",
   "execution_count": 6,
   "id": "5029f4e8",
   "metadata": {},
   "outputs": [],
   "source": [
    "import pandas as pd\n",
    "import os\n",
    "\n",
    "train_dialogues = pd.read_csv(f'{os.getcwd()}/dataset/train/dialogues.csv')\n",
    "train_findings = pd.read_csv(f'{os.getcwd()}/dataset/train/findings.csv')\n",
    "train_notes = pd.read_csv(f'{os.getcwd()}/dataset/train/notes.csv')\n",
    "train_summarization = pd.read_csv(f'{os.getcwd()}/dataset/train/summarization.csv')\n",
    "\n",
    "validate_dialogues = pd.read_csv(f'{os.getcwd()}/dataset/validate/dialogues.csv')\n",
    "validate_findings = pd.read_csv(f'{os.getcwd()}/dataset/validate/findings.csv')\n",
    "validate_notes = pd.read_csv(f'{os.getcwd()}/dataset/validate/notes.csv')\n",
    "validate_summarization = pd.read_csv(f'{os.getcwd()}/dataset/validate/summarization.csv')"
   ]
  },
  {
   "cell_type": "markdown",
   "id": "4ce6524c",
   "metadata": {},
   "source": [
    "#### Findings(Radiology)"
   ]
  },
  {
   "cell_type": "code",
   "execution_count": 7,
   "id": "7002da61",
   "metadata": {},
   "outputs": [],
   "source": [
    "df = train_findings\n",
    "df = df.dropna(subset=['finding', 'impression'])\n",
    "finding = df['finding'].tolist()\n",
    "impressions = df['impression'].tolist()"
   ]
  },
  {
   "cell_type": "code",
   "execution_count": 8,
   "id": "d88d402d",
   "metadata": {},
   "outputs": [
    {
     "name": "stderr",
     "output_type": "stream",
     "text": [
      "Batches: 100%|██████████| 3181/3181 [00:27<00:00, 115.87it/s]\n"
     ]
    }
   ],
   "source": [
    "model = SentenceTransformer('all-MiniLM-L6-v2')\n",
    "embeddings = model.encode(finding, convert_to_tensor=False, show_progress_bar=True)"
   ]
  },
  {
   "cell_type": "code",
   "execution_count": 9,
   "id": "5f68a65d",
   "metadata": {},
   "outputs": [],
   "source": [
    "index = faiss.IndexFlatIP(embeddings.shape[1])\n",
    "faiss.normalize_L2(embeddings)\n",
    "index.add(embeddings)"
   ]
  },
  {
   "cell_type": "code",
   "execution_count": 10,
   "id": "24f2ce5e",
   "metadata": {},
   "outputs": [],
   "source": [
    "def retrieve_findings(query, k=5):\n",
    "    query_emb = model.encode(query, convert_to_numpy=True, normalize_embeddings=True)\n",
    "    faiss.normalize_L2(query_emb.reshape(1, -1))  # normalize the query\n",
    "    D, I = index.search(query_emb.reshape(1, -1), k)\n",
    "    results = []\n",
    "    for idx in I[0]:\n",
    "        if idx < 0 or idx >= len(finding):\n",
    "            continue  # skip invalid indices\n",
    "        results.append({\n",
    "            'finding': finding[idx],\n",
    "            'impression': impressions[idx]\n",
    "        })\n",
    "    return results"
   ]
  },
  {
   "cell_type": "code",
   "execution_count": null,
   "id": "6702d6e4",
   "metadata": {},
   "outputs": [
    {
     "name": "stderr",
     "output_type": "stream",
     "text": [
      "Validating:   8%|▊         | 2000/25516 [18:20<3:35:40,  1.82it/s]\n"
     ]
    }
   ],
   "source": [
    "# Validation using zero shot\n",
    "validate_df = validate_findings\n",
    "generated = []\n",
    "for idx, row in tqdm(validate_df.iterrows(), total=len(validate_df), desc=\"Validating\"):\n",
    "    query = row['finding']\n",
    "    results = retrieve_findings(query, k=3)\n",
    "    retrived_chunks = \"\\n\\n\".join([f\"Finding: {res['finding']}\\nImpression: {res['impression']}\" for res in results])\n",
    "    system_prompt = finding_zero_shot\n",
    "    user_prompt = f\"Finding: {query}\\n\\nRelevant Examples:\\n{retrived_chunks}\\n\\nGenerate a concise impression based on the finding above.\"\n",
    "    response = chat(\n",
    "        model=\"llama3.1:8b\",\n",
    "        messages=[\n",
    "            {\"role\": \"system\", \"content\": system_prompt},\n",
    "            {\"role\": \"user\", \"content\": user_prompt}\n",
    "        ]\n",
    "    )\n",
    "    # print(query)\n",
    "    # print(\"Ollama Response:\\n\", response['message']['content'], \"\\n\")\n",
    "    generated_impression = response['message']['content'].strip()\n",
    "    generated.append({'finding': query, 'validation_impression': row['impression'], 'generated_impression': generated_impression})\n",
    "    if idx >= 2000:  # Limit to first 2000\n",
    "        break"
   ]
  },
  {
   "cell_type": "code",
   "execution_count": 13,
   "id": "542175df",
   "metadata": {},
   "outputs": [
    {
     "name": "stdout",
     "output_type": "stream",
     "text": [
      "✅ Saved results_llama/zeroShotFindingLlama.csv\n"
     ]
    }
   ],
   "source": [
    "import os\n",
    "os.makedirs(\"results_llama\", exist_ok=True)\n",
    "zeroShotFindingLlama = pd.DataFrame(generated)\n",
    "zeroShotFindingLlama.to_csv(\"results_llama/zeroShotFindingLlama.csv\", index=False)\n",
    "print(\"✅ Saved results_llama/zeroShotFindingLlama.csv\")"
   ]
  },
  {
   "cell_type": "code",
   "execution_count": null,
   "id": "91eaf686",
   "metadata": {},
   "outputs": [
    {
     "name": "stdout",
     "output_type": "stream",
     "text": [
      "BLEU: 9.35084228553478\n",
      "ROUGE-L (mean): 0.3188730420583639\n"
     ]
    },
    {
     "name": "stderr",
     "output_type": "stream",
     "text": [
      "Some weights of RobertaModel were not initialized from the model checkpoint at roberta-large and are newly initialized: ['pooler.dense.bias', 'pooler.dense.weight']\n",
      "You should probably TRAIN this model on a down-stream task to be able to use it for predictions and inference.\n"
     ]
    },
    {
     "name": "stdout",
     "output_type": "stream",
     "text": [
      "BERTScore F1 (mean): 0.32010746002197266\n"
     ]
    }
   ],
   "source": [
    "# Convert to DataFrame\n",
    "gen_df = pd.DataFrame(generated)\n",
    "\n",
    "# Prepare references and candidates\n",
    "references = gen_df['validation_impression'].tolist()\n",
    "candidates = gen_df['generated_impression'].tolist()\n",
    "\n",
    "# BLEU\n",
    "bleu = sacrebleu.corpus_bleu(candidates, [references])\n",
    "print(\"BLEU:\", bleu.score)\n",
    "\n",
    "# ROUGE-L\n",
    "rouge = rouge_scorer.RougeScorer(['rougeL'], use_stemmer=True)\n",
    "rouge_scores = [rouge.score(ref, cand)['rougeL'].fmeasure for ref, cand in zip(references, candidates)]\n",
    "print(\"ROUGE-L (mean):\", sum(rouge_scores)/len(rouge_scores))\n",
    "\n",
    "# BERTScore\n",
    "P, R, F1 = bert_score(candidates, references, lang=\"en\", rescale_with_baseline=True)\n",
    "print(\"BERTScore F1 (mean):\", float(F1.mean()))\n",
    "\n",
    "# MedCon\n",
    "# medcon_scores = [medcon_score(ref, cand) for ref, cand in zip(references, candidates)]\n",
    "# print(\"MedCon (mean):\", sum(medcon_scores)/len(medcon_scores))"
   ]
  },
  {
   "cell_type": "code",
   "execution_count": 11,
   "id": "284d69d1",
   "metadata": {},
   "outputs": [
    {
     "name": "stderr",
     "output_type": "stream",
     "text": [
      "Validating:   8%|▊         | 2000/25516 [19:45<3:52:16,  1.69it/s]\n"
     ]
    }
   ],
   "source": [
    "# Validation using few shot\n",
    "validate_df = validate_findings\n",
    "generated = []\n",
    "for idx, row in tqdm(validate_df.iterrows(), total=len(validate_df), desc=\"Validating\"):\n",
    "    query = row['finding']\n",
    "    results = retrieve_findings(query, k=3)\n",
    "    retrived_chunks = \"\\n\\n\".join([f\"Finding: {res['finding']}\\nImpression: {res['impression']}\" for res in results])\n",
    "    system_prompt = finding_few_shot\n",
    "    user_prompt = f\"Finding: {query}\\n\\nRelevant Examples:\\n{retrived_chunks}\\n\\nGenerate a concise impression based on the finding above.\"\n",
    "    response = chat(\n",
    "        model=\"llama3.1:8b\",\n",
    "        messages=[\n",
    "            {\"role\": \"system\", \"content\": system_prompt},\n",
    "            {\"role\": \"user\", \"content\": user_prompt}\n",
    "        ]\n",
    "    )\n",
    "    # print(query)\n",
    "    # print(\"Ollama Response:\\n\", response['message']['content'], \"\\n\")\n",
    "    generated_impression = response['message']['content'].strip()\n",
    "    generated.append({'finding': query, 'validation_impression': row['impression'], 'generated_impression': generated_impression})\n",
    "    if idx >= 2000:  # Limit to first 2000\n",
    "        break"
   ]
  },
  {
   "cell_type": "code",
   "execution_count": 13,
   "id": "2357d9aa",
   "metadata": {},
   "outputs": [
    {
     "name": "stdout",
     "output_type": "stream",
     "text": [
      "✅ Saved results_llama/fewShotFindingLlama.csv\n"
     ]
    }
   ],
   "source": [
    "import os\n",
    "os.makedirs(\"results_llama\", exist_ok=True)\n",
    "fewShotFindingLlama = pd.DataFrame(generated)\n",
    "fewShotFindingLlama.to_csv(\"results_llama/fewShotFindingLlama.csv\", index=False)\n",
    "print(\"✅ Saved results_llama/fewShotFindingLlama.csv\")"
   ]
  },
  {
   "cell_type": "code",
   "execution_count": 12,
   "id": "9da6d3b7",
   "metadata": {},
   "outputs": [
    {
     "name": "stdout",
     "output_type": "stream",
     "text": [
      "BLEU: 9.084616258345454\n",
      "ROUGE-L (mean): 0.3216817302158076\n"
     ]
    },
    {
     "name": "stderr",
     "output_type": "stream",
     "text": [
      "Some weights of RobertaModel were not initialized from the model checkpoint at roberta-large and are newly initialized: ['pooler.dense.bias', 'pooler.dense.weight']\n",
      "You should probably TRAIN this model on a down-stream task to be able to use it for predictions and inference.\n"
     ]
    },
    {
     "name": "stdout",
     "output_type": "stream",
     "text": [
      "BERTScore F1 (mean): 0.3005770146846771\n"
     ]
    }
   ],
   "source": [
    "# Convert to DataFrame\n",
    "gen_df = pd.DataFrame(generated)\n",
    "\n",
    "# Prepare references and candidates\n",
    "references = gen_df['validation_impression'].tolist()\n",
    "candidates = gen_df['generated_impression'].tolist()\n",
    "\n",
    "# BLEU\n",
    "bleu = sacrebleu.corpus_bleu(candidates, [references])\n",
    "print(\"BLEU:\", bleu.score)\n",
    "\n",
    "# ROUGE-L\n",
    "rouge = rouge_scorer.RougeScorer(['rougeL'], use_stemmer=True)\n",
    "rouge_scores = [rouge.score(ref, cand)['rougeL'].fmeasure for ref, cand in zip(references, candidates)]\n",
    "print(\"ROUGE-L (mean):\", sum(rouge_scores)/len(rouge_scores))\n",
    "\n",
    "# BERTScore\n",
    "P, R, F1 = bert_score(candidates, references, lang=\"en\", rescale_with_baseline=True)\n",
    "print(\"BERTScore F1 (mean):\", float(F1.mean()))\n",
    "\n",
    "# MedCon\n",
    "# medcon_scores = [medcon_score(ref, cand) for ref, cand in zip(references, candidates)]\n",
    "# print(\"MedCon (mean):\", sum(medcon_scores)/len(medcon_scores))"
   ]
  },
  {
   "cell_type": "markdown",
   "id": "c3de22d4",
   "metadata": {},
   "source": [
    "#### Summerizations(Patient Questions)"
   ]
  },
  {
   "cell_type": "code",
   "execution_count": null,
   "id": "7ffb0280",
   "metadata": {},
   "outputs": [],
   "source": [
    "df = train_summarization\n",
    "df = df.dropna(subset=['prompt', 'response'])\n",
    "prompts = df['prompt'].tolist()\n",
    "responses = df['response'].tolist()"
   ]
  },
  {
   "cell_type": "code",
   "execution_count": null,
   "id": "0788dae3",
   "metadata": {},
   "outputs": [],
   "source": [
    "embeddings = model.encode(prompts, convert_to_tensor=False, show_progress_bar=True)\n",
    "index = faiss.IndexFlatIP(embeddings.shape[1])\n",
    "faiss.normalize_L2(embeddings)\n",
    "index.add(embeddings)"
   ]
  },
  {
   "cell_type": "code",
   "execution_count": null,
   "id": "0cadb28e",
   "metadata": {},
   "outputs": [],
   "source": [
    "def retrieve_summaries(query, k=5):\n",
    "    query_emb = model.encode(query, convert_to_numpy=True, normalize_embeddings=True)\n",
    "    faiss.normalize_L2(query_emb.reshape(1, -1))  # normalize the query\n",
    "    D, I = index.search(query_emb.reshape(1, -1), k)\n",
    "    results = []\n",
    "    for idx in I[0]:\n",
    "        if idx < 0 or idx >= len(prompts):\n",
    "            continue  # skip invalid indices\n",
    "        results.append({\n",
    "            'prompt': prompts[idx],\n",
    "            'response': responses[idx]\n",
    "        })\n",
    "    return results"
   ]
  },
  {
   "cell_type": "code",
   "execution_count": null,
   "id": "73b8140c",
   "metadata": {},
   "outputs": [],
   "source": [
    "validate_df = validate_summarization\n",
    "generated = []\n",
    "for idx, row in tqdm(validate_df.iterrows(), total=len(validate_df), desc=\"Validating\"):\n",
    "    query = row['prompt']\n",
    "    if pd.isna(query):\n",
    "        continue  # skip rows where prompt is NaN\n",
    "    results = retrieve_summaries(query, k=3)\n",
    "    retrived_chunks = \"\\n\\n\".join([f\"Prompt: {res['prompt']}\\nResponse: {res['response']}\" for res in results])\n",
    "    system_prompt = summerization_zero_shot\n",
    "    user_prompt = f\"Prompt: {query}\\n\\nRelevant Examples:\\n{retrived_chunks}\\n\\nGenerate a concise question based on the prompt above.\"\n",
    "    response = chat(\n",
    "        model=\"llama3.1:8b\",\n",
    "        messages=[\n",
    "            {\"role\": \"system\", \"content\": system_prompt},\n",
    "            {\"role\": \"user\", \"content\": user_prompt}\n",
    "        ]\n",
    "    )\n",
    "    # print(query)\n",
    "    # print(\"Ollama Response:\\n\", response['message']['content'], \"\\n\")\n",
    "    generated_response = response['message']['content'].strip()\n",
    "    generated.append({'prompt': query, 'validation_response': row['response'], 'generated_response': generated_response})\n",
    "    if idx >= 2000:  # Limit to first 2000\n",
    "        break"
   ]
  },
  {
   "cell_type": "code",
   "execution_count": null,
   "id": "55400e61",
   "metadata": {},
   "outputs": [],
   "source": [
    "import os\n",
    "os.makedirs(\"results_llama\", exist_ok=True)\n",
    "zeroShotSummerizationLlama = pd.DataFrame(generated)\n",
    "zeroShotSummerizationLlama.to_csv(\"results_llama/zeroShotSummerizationLlama.csv\", index=False)\n",
    "print(\"✅ Saved results_llama/zeroShotSummerizationLlama.csv\")"
   ]
  },
  {
   "cell_type": "code",
   "execution_count": null,
   "id": "92315a76",
   "metadata": {},
   "outputs": [],
   "source": [
    "# Convert to DataFrame\n",
    "gen_df = pd.DataFrame(generated)\n",
    "\n",
    "# Prepare references and candidates\n",
    "references = gen_df['validation_impression'].tolist()\n",
    "candidates = gen_df['generated_impression'].tolist()\n",
    "\n",
    "# BLEU\n",
    "bleu = sacrebleu.corpus_bleu(candidates, [references])\n",
    "print(\"BLEU:\", bleu.score)\n",
    "\n",
    "# ROUGE-L\n",
    "rouge = rouge_scorer.RougeScorer(['rougeL'], use_stemmer=True)\n",
    "rouge_scores = [rouge.score(ref, cand)['rougeL'].fmeasure for ref, cand in zip(references, candidates)]\n",
    "print(\"ROUGE-L (mean):\", sum(rouge_scores)/len(rouge_scores))\n",
    "\n",
    "# BERTScore\n",
    "P, R, F1 = bert_score(candidates, references, lang=\"en\", rescale_with_baseline=True)\n",
    "print(\"BERTScore F1 (mean):\", float(F1.mean()))\n",
    "\n",
    "# MedCon\n",
    "# medcon_scores = [medcon_score(ref, cand) for ref, cand in zip(references, candidates)]\n",
    "# print(\"MedCon (mean):\", sum(medcon_scores)/len(medcon_scores))"
   ]
  },
  {
   "cell_type": "code",
   "execution_count": null,
   "id": "867854a8",
   "metadata": {},
   "outputs": [],
   "source": [
    "validate_df = validate_summarization\n",
    "generated = []\n",
    "for idx, row in tqdm(validate_df.iterrows(), total=len(validate_df), desc=\"Validating\"):\n",
    "    query = row['prompt']\n",
    "    if pd.isna(query):\n",
    "        continue  # skip rows where prompt is NaN\n",
    "    results = retrieve_summaries(query, k=3)\n",
    "    retrived_chunks = \"\\n\\n\".join([f\"Prompt: {res['prompt']}\\nResponse: {res['response']}\" for res in results])\n",
    "    system_prompt = summerization_few_shot\n",
    "    user_prompt = f\"Prompt: {query}\\n\\nRelevant Examples:\\n{retrived_chunks}\\n\\nGenerate a concise question based on the prompt above.\"\n",
    "    response = chat(\n",
    "        model=\"llama3.1:8b\",\n",
    "        messages=[\n",
    "            {\"role\": \"system\", \"content\": system_prompt},\n",
    "            {\"role\": \"user\", \"content\": user_prompt}\n",
    "        ]\n",
    "    )\n",
    "    # print(query)\n",
    "    # print(\"Ollama Response:\\n\", response['message']['content'], \"\\n\")\n",
    "    generated_response = response['message']['content'].strip()\n",
    "    generated.append({'prompt': query, 'validation_response': row['response'], 'generated_response': generated_response})\n",
    "    if idx >= 2000:  # Limit to first 2000\n",
    "        break"
   ]
  },
  {
   "cell_type": "code",
   "execution_count": null,
   "id": "87a7760d",
   "metadata": {},
   "outputs": [],
   "source": [
    "import os\n",
    "os.makedirs(\"results_llama\", exist_ok=True)\n",
    "fewShotSummerizationLlama = pd.DataFrame(generated)\n",
    "fewShotSummerizationLlama.to_csv(\"results_llama/fewShotSummerizationLlama.csv\", index=False)\n",
    "print(\"✅ Saved results_llama/fewShotSummerizationLlama.csv\")"
   ]
  },
  {
   "cell_type": "code",
   "execution_count": null,
   "id": "a0c2318e",
   "metadata": {},
   "outputs": [],
   "source": [
    "# Convert to DataFrame\n",
    "gen_df = pd.DataFrame(generated)\n",
    "\n",
    "# Prepare references and candidates\n",
    "references = gen_df['validation_impression'].tolist()\n",
    "candidates = gen_df['generated_impression'].tolist()\n",
    "\n",
    "# BLEU\n",
    "bleu = sacrebleu.corpus_bleu(candidates, [references])\n",
    "print(\"BLEU:\", bleu.score)\n",
    "\n",
    "# ROUGE-L\n",
    "rouge = rouge_scorer.RougeScorer(['rougeL'], use_stemmer=True)\n",
    "rouge_scores = [rouge.score(ref, cand)['rougeL'].fmeasure for ref, cand in zip(references, candidates)]\n",
    "print(\"ROUGE-L (mean):\", sum(rouge_scores)/len(rouge_scores))\n",
    "\n",
    "# BERTScore\n",
    "P, R, F1 = bert_score(candidates, references, lang=\"en\", rescale_with_baseline=True)\n",
    "print(\"BERTScore F1 (mean):\", float(F1.mean()))\n",
    "\n",
    "# MedCon\n",
    "# medcon_scores = [medcon_score(ref, cand) for ref, cand in zip(references, candidates)]\n",
    "# print(\"MedCon (mean):\", sum(medcon_scores)/len(medcon_scores))"
   ]
  }
 ],
 "metadata": {
  "kernelspec": {
   "display_name": "venv",
   "language": "python",
   "name": "python3"
  },
  "language_info": {
   "codemirror_mode": {
    "name": "ipython",
    "version": 3
   },
   "file_extension": ".py",
   "mimetype": "text/x-python",
   "name": "python",
   "nbconvert_exporter": "python",
   "pygments_lexer": "ipython3",
   "version": "3.12.3"
  }
 },
 "nbformat": 4,
 "nbformat_minor": 5
}
